{
 "cells": [
  {
   "cell_type": "markdown",
   "id": "aa43b8f7",
   "metadata": {},
   "source": [
    "# Preprocesado de Datos\n",
    "\n",
    "En este notebook:\n",
    "1. Resolveremos los **duplicados** e inconsistencias detectadas.\n",
    "2. Convertimos y depuramos columnas *object* (`categories`, `tags`…).\n",
    "3. Preparamos las **métricas de engagement** ya definidas (`eng_cat`, `engagement_score`).\n",
    "4. Guardamos el dataset final **`poi_dataset_prepared.csv`** "
   ]
  },
  {
   "cell_type": "code",
   "execution_count": 1,
   "id": "2cf77a3d",
   "metadata": {},
   "outputs": [],
   "source": [
    "import pandas as pd\n",
    "import numpy as np\n",
    "import matplotlib.pyplot as plt\n",
    "import seaborn as sns\n",
    "import itertools as it\n",
    "import re\n",
    "import unicodedata\n",
    "from sklearn.feature_extraction.text import TfidfVectorizer\n",
    "from sklearn.decomposition import TruncatedSVD\n",
    "import nltk, joblib\n"
   ]
  },
  {
   "cell_type": "code",
   "execution_count": null,
   "id": "b5abf53c",
   "metadata": {},
   "outputs": [],
   "source": [
    "data = pd.read_csv('../Datasets/poi_dataset_engagment.csv')\n"
   ]
  },
  {
   "cell_type": "markdown",
   "id": "b9b25f0f",
   "metadata": {},
   "source": [
    "**Conversión de columnas `object`** · *Preprocesado*  \n",
    "   * `categories`, `tags` → listas Python.  "
   ]
  },
  {
   "cell_type": "code",
   "execution_count": 3,
   "id": "3f6d782b",
   "metadata": {},
   "outputs": [],
   "source": [
    "#transformamos las columnas de categoria y tag a listas\n",
    "data['categories'] = data['categories'].apply(eval)\n",
    "data['tags'] = data['tags'].apply(eval)\n"
   ]
  },
  {
   "cell_type": "markdown",
   "id": "b266264b",
   "metadata": {},
   "source": [
    "**Fusión de duplicados** (`id` repetidos) · *Procesado*  \n",
    "   * Agrupar por `id` y:   \n",
    "     - Unir (`set`) `tags`.  \n",
    "     - Conservar la primera fila para los campos estáticos."
   ]
  },
  {
   "cell_type": "code",
   "execution_count": 4,
   "id": "9f1dbd8d",
   "metadata": {},
   "outputs": [],
   "source": [
    "#Vamos a fusionar las columnas id que estan duplicadas\n",
    "data = data.groupby('id',as_index=False).agg({\n",
    "    'name': 'first',\n",
    "    'shortDescription': 'first',\n",
    "    'categories': 'first',\n",
    "    'tier': 'first',\n",
    "    'locationLon': 'first',\n",
    "    'locationLat': 'first',\n",
    "    'tags': lambda x: list(set().union(*x)),\n",
    "    'xps': 'first',\n",
    "    'main_image_path': 'first',\n",
    "    'engagement_score': 'mean'\n",
    "})"
   ]
  },
  {
   "cell_type": "code",
   "execution_count": 5,
   "id": "7b056249",
   "metadata": {},
   "outputs": [
    {
     "name": "stdout",
     "output_type": "stream",
     "text": [
      "eng_cat\n",
      "High    498\n",
      "Low     497\n",
      "Mid     497\n",
      "Name: count, dtype: int64\n"
     ]
    }
   ],
   "source": [
    "# Recalcular etiqueta Low / Mid / High -----------------------\n",
    "labels = ['Low', 'Mid', 'High']\n",
    "\n",
    "data['eng_cat'] = pd.qcut(\n",
    "    data['engagement_score'],\n",
    "    q=3,\n",
    "    labels=labels\n",
    ").astype('category')              \n",
    "\n",
    "print(data['eng_cat'].value_counts())"
   ]
  },
  {
   "cell_type": "code",
   "execution_count": 6,
   "id": "244f70a2",
   "metadata": {},
   "outputs": [
    {
     "name": "stdout",
     "output_type": "stream",
     "text": [
      "(1492, 12)\n"
     ]
    }
   ],
   "source": [
    "print(data.shape) "
   ]
  },
  {
   "cell_type": "markdown",
   "id": "cdb8c1fc",
   "metadata": {},
   "source": [
    "**Ingeniería de listas** · *Procesado*  \n",
    "   * `categories`: Embedding de indices.  \n",
    "   * `tags`: Contamos cuantos Nº de tags tiene cada poi y lo pasamos a numerico"
   ]
  },
  {
   "cell_type": "code",
   "execution_count": 7,
   "id": "fbaf0c36",
   "metadata": {},
   "outputs": [
    {
     "data": {
      "text/plain": [
       "categories\n",
       "[Patrimonio, Historia, Arquitectura]           100\n",
       "[Patrimonio, Arquitectura, Historia]            84\n",
       "[Historia, Cultura, Escultura]                  76\n",
       "[Cultura, Escultura, Historia]                  66\n",
       "[Cultura, Arquitectura, Historia]               64\n",
       "                                              ... \n",
       "[Ocio, Ciencia, Arquitectura]                    1\n",
       "[Ocio, Escultura, Naturaleza]                    1\n",
       "[Historia, Escultura, Ciencia]                   1\n",
       "[Historia, Cultura, Arquitectura, Misterio]      1\n",
       "[Ocio, Cultura, Historia]                        1\n",
       "Name: count, Length: 224, dtype: int64"
      ]
     },
     "execution_count": 7,
     "metadata": {},
     "output_type": "execute_result"
    }
   ],
   "source": [
    "#Analizamos la distribucion de las categorias\n",
    "categories = data['categories'].value_counts()\n",
    "categories\n"
   ]
  },
  {
   "cell_type": "markdown",
   "id": "d33e9c51",
   "metadata": {},
   "source": [
    "###  Elección de **Embedding de índices** para la columna `categories`\n",
    "\n",
    "\n",
    "`categories` es una lista de 12 etiquetas por POI (p. ej. `['Historia', 'Cultura']`).  \n",
    "Necesitamos transformar esa información textual en algo que un modelo pueda procesar.\n",
    "\n",
    "\n",
    "#### ¿Por qué embedding de índices?\n",
    "\n",
    "1. **Dimensionalidad controlada**  \n",
    "   Con 12 categorías, un embedding de 8 dimensiones reduce la entrada a  \n",
    "   8 números en lugar de 12 bits sparsos.\n",
    "\n",
    "2. **Captura relaciones semánticas**  \n",
    "   El modelo puede aprender que *Historia* y *Patrimonio* estén cerca en el\n",
    "   espacio vectorial, algo imposible con one-hot.\n",
    "\n",
    "\n",
    "\n",
    "#### Implementación (fase de pre-procesado)\n",
    "\n",
    "1. **Vocabulario** – asignamos índices `1…N` a cada categoría (0 reservado para `<pad>`).  \n",
    "2. **Secuencias de índices** – cada POI se convierte en `[5, 9]`, `[1, 2]`, etc.  \n"
   ]
  },
  {
   "cell_type": "code",
   "execution_count": 8,
   "id": "8f4967fa",
   "metadata": {},
   "outputs": [
    {
     "name": "stdout",
     "output_type": "stream",
     "text": [
      "                                  categories       cat_idxs\n",
      "0  [Patrimonio, Cultura, Historia, Misterio]  [11, 4, 7, 8]\n",
      "1                 [Arquitectura, Patrimonio]        [1, 11]\n",
      "2          [Cultura, Arquitectura, Historia]      [4, 1, 7]\n",
      "3                   [Arquitectura, Historia]         [1, 7]\n",
      "4        [Historia, Arquitectura, Escultura]      [7, 1, 5]\n"
     ]
    }
   ],
   "source": [
    "all_cats = sorted({c for cats in data['categories'] for c in cats})\n",
    "stoi     = {cat: idx + 1 for idx, cat in enumerate(all_cats)}   \n",
    "\n",
    "\n",
    "data['cat_idxs'] = data['categories'].apply(\n",
    "    lambda cats: [stoi[c] for c in cats]\n",
    ")\n",
    "\n",
    "# --- Comprobación rápida ---\n",
    "print(data[['categories', 'cat_idxs']].head(5))"
   ]
  },
  {
   "cell_type": "markdown",
   "id": "dd043cd9",
   "metadata": {},
   "source": [
    "#### Secuencias *padded*\n",
    "* Tras mapear las listas de categorías a índices, se genera **`cat_padded`** con longitud fija `MAX_LEN`.  \n",
    "* El valor `0` rellenamos las posiciones vacías, asegurando compatibilidad directa con `nn.Embedding`"
   ]
  },
  {
   "cell_type": "code",
   "execution_count": null,
   "id": "87ab54e0",
   "metadata": {},
   "outputs": [],
   "source": [
    "cat_seqs = data['cat_idxs'].tolist()             \n",
    "\n",
    "# ——— Padding a longitud fija ———\n",
    "MAX_LEN = max(len(seq) for seq in cat_seqs)       # p. ej. 3\n",
    "PAD_IDX = 0                                       # hemos reservado 0 para <pad>\n",
    "\n",
    "cat_padded = np.zeros((len(cat_seqs), MAX_LEN), dtype='int64')  # (N, MAX_LEN)\n",
    "for i, seq in enumerate(cat_seqs):\n",
    "    cat_padded[i, :len(seq)] = seq               \n",
    "\n",
    "np.save('../Others/cat_seqs.npy', cat_padded) "
   ]
  },
  {
   "cell_type": "code",
   "execution_count": 10,
   "id": "cce7bdbc",
   "metadata": {},
   "outputs": [
    {
     "name": "stdout",
     "output_type": "stream",
     "text": [
      "                                                tags  tags_count\n",
      "0  [brujas, Museos, Instalación, Inquisición, Edi...           5\n",
      "1                                          [s.XVIII]           1\n",
      "2  [Urbanismo, Arquitectura neoclásica, Puerta, a...          13\n",
      "3                                                 []           0\n",
      "4  [Urbanismo, Ciudad lineal, Transformación urba...          13\n"
     ]
    },
    {
     "data": {
      "text/plain": [
       "Text(0, 0.5, 'Frequency')"
      ]
     },
     "execution_count": 10,
     "metadata": {},
     "output_type": "execute_result"
    },
    {
     "data": {
      "image/png": "[encoded data removed]",
      "text/plain": [
       "<Figure size 1000x600 with 1 Axes>"
      ]
     },
     "metadata": {},
     "output_type": "display_data"
    }
   ],
   "source": [
    "#Transformamos el campo tags lo contamos y añadimos un campo con el numero de tags\n",
    "data['tags_count'] = data['tags'].apply(len)\n",
    "# --- Comprobación rápida ---\n",
    "print(data[['tags', 'tags_count']].head(5))\n",
    "# --- Visualización de la distribución de tags ---\n",
    "plt.figure(figsize=(10, 6)) \n",
    "sns.histplot(data['tags_count'], bins=30, kde=True)\n",
    "plt.title('Distribution of Tags Count')\n",
    "plt.xlabel('Number of Tags')\n",
    "plt.ylabel('Frequency') "
   ]
  },
  {
   "cell_type": "markdown",
   "id": "29f8c76f",
   "metadata": {},
   "source": [
    "#### Feature de *tags*\n",
    "* Se añade la columna **`tags_count`** con el número de etiquetas por POI.  \n",
    "* El histograma revela una distribución **multimodal**: picos en `0` y en `10–13` tags, útil como señal para modelos tabulares."
   ]
  },
  {
   "cell_type": "code",
   "execution_count": 11,
   "id": "cbd1e65d",
   "metadata": {},
   "outputs": [
    {
     "name": "stdout",
     "output_type": "stream",
     "text": [
      "<class 'pandas.core.frame.DataFrame'>\n",
      "RangeIndex: 1492 entries, 0 to 1491\n",
      "Data columns (total 14 columns):\n",
      " #   Column            Non-Null Count  Dtype   \n",
      "---  ------            --------------  -----   \n",
      " 0   id                1492 non-null   object  \n",
      " 1   name              1492 non-null   object  \n",
      " 2   shortDescription  1492 non-null   object  \n",
      " 3   categories        1492 non-null   object  \n",
      " 4   tier              1492 non-null   int64   \n",
      " 5   locationLon       1492 non-null   float64 \n",
      " 6   locationLat       1492 non-null   float64 \n",
      " 7   tags              1492 non-null   object  \n",
      " 8   xps               1492 non-null   int64   \n",
      " 9   main_image_path   1492 non-null   object  \n",
      " 10  engagement_score  1492 non-null   float64 \n",
      " 11  eng_cat           1492 non-null   category\n",
      " 12  cat_idxs          1492 non-null   object  \n",
      " 13  tags_count        1492 non-null   int64   \n",
      "dtypes: category(1), float64(3), int64(3), object(7)\n",
      "memory usage: 153.2+ KB\n"
     ]
    }
   ],
   "source": [
    "data.info()"
   ]
  },
  {
   "cell_type": "markdown",
   "id": "0f5b0633",
   "metadata": {},
   "source": [
    "### Vectorización de **shortDescription**\n",
    "\n",
    "**Pasos realizados**\n",
    "\n",
    "1. **Stop-words en español**  \n",
    "   Se descargan las listas de NLTK y se almacenan en `spanish_sw`.\n",
    "\n",
    "2. **Limpieza básica** (`clean`)  \n",
    "   * Minúsculas  \n",
    "   * Normalización de acentos → ASCII  \n",
    "   * Eliminación de caracteres no alfabéticos  \n",
    "   * Colapsado de espacios\n",
    "\n",
    "3. **TF-IDF**  \n",
    "   * Vocabulario limitado a **2 000 términos** (`max_features=2000`).  \n",
    "   * Stop-words españolas eliminadas.  \n",
    "   * Resultado: matriz dispersa **(n × 2000)**.\n",
    "\n",
    "4. **Reducción de dimensionalidad** – *LSA*  \n",
    "   * `TruncatedSVD(n_components=100)` → matriz **(n × 100)**.  \n",
    "   * Captura la semántica latente, aligera memoria y evita sobre-ajuste.\n",
    "\n",
    "5. **Guardamos**  \n",
    "   * `desc_vectors.npy` – matriz reducida.  \n"
   ]
  },
  {
   "cell_type": "code",
   "execution_count": null,
   "id": "8497b9f6",
   "metadata": {},
   "outputs": [
    {
     "name": "stderr",
     "output_type": "stream",
     "text": [
      "[nltk_data] Downloading package stopwords to\n",
      "[nltk_data]     C:\\Users\\Nauzet\\AppData\\Roaming\\nltk_data...\n",
      "[nltk_data]   Package stopwords is already up-to-date!\n"
     ]
    },
    {
     "name": "stdout",
     "output_type": "stream",
     "text": [
      "Matriz de descripciones: (1492, 100)\n"
     ]
    }
   ],
   "source": [
    "\n",
    "# Lista de stop-words en español (nltk)\n",
    "nltk.download('stopwords')\n",
    "spanish_sw = nltk.corpus.stopwords.words('spanish')\n",
    "\n",
    "\n",
    "# Función de limpieza mínima\n",
    "\n",
    "def clean(text: str) -> str:\n",
    "    text = text.lower()\n",
    "    text = unicodedata.normalize(\"NFKD\", text).encode(\"ascii\",\"ignore\").decode()\n",
    "    text = re.sub(r\"[^a-z\\s]\", \" \", text)        # solo letras y espacios\n",
    "    return re.sub(r\"\\s+\", \" \", text).strip()\n",
    "\n",
    "desc_clean = data['shortDescription'].fillna('').map(clean)\n",
    "\n",
    "\n",
    "# TF-IDF con vocabulario ≤ 2 000 términos\n",
    "\n",
    "tfidf = TfidfVectorizer(max_features=2000, stop_words=spanish_sw)\n",
    "X_tfidf = tfidf.fit_transform(desc_clean)          # sparse (n, 2000)\n",
    "\n",
    "\n",
    "# Reducir a 100 componentes con SVD (LSA)\n",
    "\n",
    "\n",
    "svd = TruncatedSVD(n_components=100, random_state=42)\n",
    "X_desc_100 = svd.fit_transform(X_tfidf).astype(\"float32\")  \n",
    "print(\"Matriz de descripciones:\", X_desc_100.shape)  \n",
    "\n",
    "# Guardar en disco para usarlo después\n",
    "np.save(\"../Others/desc_vectors.npy\", X_desc_100)            \n",
    "\n"
   ]
  },
  {
   "cell_type": "code",
   "execution_count": 13,
   "id": "ebab846f",
   "metadata": {},
   "outputs": [
    {
     "name": "stdout",
     "output_type": "stream",
     "text": [
      "<class 'pandas.core.frame.DataFrame'>\n",
      "RangeIndex: 1492 entries, 0 to 1491\n",
      "Data columns (total 14 columns):\n",
      " #   Column            Non-Null Count  Dtype   \n",
      "---  ------            --------------  -----   \n",
      " 0   id                1492 non-null   object  \n",
      " 1   name              1492 non-null   object  \n",
      " 2   shortDescription  1492 non-null   object  \n",
      " 3   categories        1492 non-null   object  \n",
      " 4   tier              1492 non-null   int64   \n",
      " 5   locationLon       1492 non-null   float64 \n",
      " 6   locationLat       1492 non-null   float64 \n",
      " 7   tags              1492 non-null   object  \n",
      " 8   xps               1492 non-null   int64   \n",
      " 9   main_image_path   1492 non-null   object  \n",
      " 10  engagement_score  1492 non-null   float64 \n",
      " 11  eng_cat           1492 non-null   category\n",
      " 12  cat_idxs          1492 non-null   object  \n",
      " 13  tags_count        1492 non-null   int64   \n",
      "dtypes: category(1), float64(3), int64(3), object(7)\n",
      "memory usage: 153.2+ KB\n"
     ]
    }
   ],
   "source": [
    "data.info()"
   ]
  },
  {
   "cell_type": "markdown",
   "id": "45f4e634",
   "metadata": {},
   "source": [
    "#### Limpieza final de columnas\n",
    "\n",
    "* **Columnas eliminadas como features**  \n",
    "  * `id`, `name` → identificadores / metadatos, no informativos para el modelo.  \n",
    "  * `shortDescription`,  → ya vectorizadas fuera del DataFrame (TF-IDF + SVD, `desc_vectors.npy`).  \n",
    "  * `engagement_score` → se sustituye por la versión categórica `eng_cat`.  \n",
    "  * `cat_idx` → índice crudo; conservamos la versión *padded* en `cat_seqs.npy`.\n",
    "\n",
    "* **Columnas que permanecen**  \n",
    "  * `tier`, `xps` → numéricas/ordinales.  \n",
    "  * `locationLon`, `locationLat` → coordenadas normalizables; servirán para features geoespaciales.  \n",
    "  * `tags_count` → densidad semántica de etiquetas.  \n",
    "  * `main_image_path` → localización de la imagen (clave para el pipeline multimodal).  \n",
    "  * `eng_cat` → **target** definitivo (Low/Mid/High)."
   ]
  },
  {
   "cell_type": "code",
   "execution_count": 14,
   "id": "c2b3f65b",
   "metadata": {},
   "outputs": [],
   "source": [
    "#Elimanos las columasn que no aportaran nada al modelo\n",
    "data = data.drop(columns=['id', 'name', 'shortDescription', 'categories', 'tags','shortDescription', 'categories', 'tags','cat_idxs', 'engagement_score'])\n"
   ]
  },
  {
   "cell_type": "code",
   "execution_count": 15,
   "id": "a6acaa8e",
   "metadata": {},
   "outputs": [
    {
     "name": "stdout",
     "output_type": "stream",
     "text": [
      "<class 'pandas.core.frame.DataFrame'>\n",
      "RangeIndex: 1492 entries, 0 to 1491\n",
      "Data columns (total 7 columns):\n",
      " #   Column           Non-Null Count  Dtype   \n",
      "---  ------           --------------  -----   \n",
      " 0   tier             1492 non-null   int64   \n",
      " 1   locationLon      1492 non-null   float64 \n",
      " 2   locationLat      1492 non-null   float64 \n",
      " 3   xps              1492 non-null   int64   \n",
      " 4   main_image_path  1492 non-null   object  \n",
      " 5   eng_cat          1492 non-null   category\n",
      " 6   tags_count       1492 non-null   int64   \n",
      "dtypes: category(1), float64(2), int64(3), object(1)\n",
      "memory usage: 71.7+ KB\n"
     ]
    }
   ],
   "source": [
    "data.info()"
   ]
  },
  {
   "cell_type": "code",
   "execution_count": null,
   "id": "8e225017",
   "metadata": {},
   "outputs": [],
   "source": [
    "data.to_csv('../Datasets/poi_dataset_eng_pre.csv', index=False)"
   ]
  }
 ],
 "metadata": {
  "kernelspec": {
   "display_name": "Python 3",
   "language": "python",
   "name": "python3"
  },
  "language_info": {
   "codemirror_mode": {
    "name": "ipython",
    "version": 3
   },
   "file_extension": ".py",
   "mimetype": "text/x-python",
   "name": "python",
   "nbconvert_exporter": "python",
   "pygments_lexer": "ipython3",
   "version": "3.11.9"
  }
 },
 "nbformat": 4,
 "nbformat_minor": 5
}
